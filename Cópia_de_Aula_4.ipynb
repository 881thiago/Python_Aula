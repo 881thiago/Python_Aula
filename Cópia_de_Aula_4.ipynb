{
  "nbformat": 4,
  "nbformat_minor": 0,
  "metadata": {
    "colab": {
      "name": "Cópia de Aula_4",
      "provenance": [],
      "authorship_tag": "ABX9TyOJ7Uzys68zNNCncGKqxJC9",
      "include_colab_link": true
    },
    "kernelspec": {
      "name": "python3",
      "display_name": "Python 3"
    },
    "language_info": {
      "name": "python"
    }
  },
  "cells": [
    {
      "cell_type": "markdown",
      "metadata": {
        "id": "view-in-github",
        "colab_type": "text"
      },
      "source": [
        "<a href=\"https://colab.research.google.com/github/881thiago/Python_Aula4/blob/main/C%C3%B3pia_de_Aula_4.ipynb\" target=\"_parent\"><img src=\"https://colab.research.google.com/assets/colab-badge.svg\" alt=\"Open In Colab\"/></a>"
      ]
    },
    {
      "cell_type": "markdown",
      "source": [
        "#Esse é meu primeiro codigo em Python"
      ],
      "metadata": {
        "id": "2XxXXsF0BeTa"
      }
    },
    {
      "cell_type": "code",
      "source": [
        "x=5\n",
        "if x==5:\n",
        "  Y=0 \n",
        "  while y <=10:\n",
        "    print (\"Valor de y é: \",y)\n",
        "    # print (\"\\n\") #cltl + / comenta o codigo\n",
        "    # print (x)\n",
        "    y = y+1\n"
      ],
      "metadata": {
        "colab": {
          "base_uri": "https://localhost:8080/",
          "height": 130
        },
        "id": "NO5ses2_GV0r",
        "outputId": "5b0958c4-7608-41d7-f4dc-3f39b160b56a"
      },
      "execution_count": null,
      "outputs": [
        {
          "output_type": "error",
          "ename": "SyntaxError",
          "evalue": "ignored",
          "traceback": [
            "\u001b[0;36m  File \u001b[0;32m\"<ipython-input-15-4a45ca2a20c9>\"\u001b[0;36m, line \u001b[0;32m2\u001b[0m\n\u001b[0;31m    if x==5\u001b[0m\n\u001b[0m           ^\u001b[0m\n\u001b[0;31mSyntaxError\u001b[0m\u001b[0;31m:\u001b[0m invalid syntax\n"
          ]
        }
      ]
    },
    {
      "cell_type": "markdown",
      "source": [
        "##Que tipo de variavel?"
      ],
      "metadata": {
        "id": "UE7FR4EcG8aa"
      }
    },
    {
      "cell_type": "code",
      "source": [
        "type (x)#é uma função que devolve o tipo de variavel."
      ],
      "metadata": {
        "colab": {
          "base_uri": "https://localhost:8080/"
        },
        "id": "UFgU85E5HBEa",
        "outputId": "31edcc89-874b-4031-a994-11fb2549ea4f"
      },
      "execution_count": null,
      "outputs": [
        {
          "output_type": "execute_result",
          "data": {
            "text/plain": [
              "int"
            ]
          },
          "metadata": {},
          "execution_count": 13
        }
      ]
    },
    {
      "cell_type": "markdown",
      "source": [
        "#Voltando para o pseudocodigo"
      ],
      "metadata": {
        "id": "xO2etZ2_HyOi"
      }
    },
    {
      "cell_type": "code",
      "source": [
        "  for i in [5,6,7,8,9]:\n",
        "    print(i)"
      ],
      "metadata": {
        "id": "40BwRsQyHt_6"
      },
      "execution_count": null,
      "outputs": []
    },
    {
      "cell_type": "code",
      "source": [
        "for i in range(10):\n",
        "  print(i)"
      ],
      "metadata": {
        "id": "qZGoxv7FJH6s"
      },
      "execution_count": null,
      "outputs": []
    },
    {
      "cell_type": "code",
      "source": [
        "for i in range(5,10):\n",
        "  print(i)"
      ],
      "metadata": {
        "id": "IspND6YqJvDM"
      },
      "execution_count": null,
      "outputs": []
    },
    {
      "cell_type": "code",
      "source": [
        "for i in range(5,10,2):\n",
        "  print(i)"
      ],
      "metadata": {
        "id": "Ii3vfGHuJ_4O"
      },
      "execution_count": null,
      "outputs": []
    },
    {
      "cell_type": "code",
      "source": [
        "x=5\n",
        "if x==5\n",
        "y=0\n",
        "  while y<=10:\n",
        "    print(\"Valor de y é \",y)\n",
        "    y=y+1\n",
        "  for i in [5,6,7,8,9]:\n",
        "    print(i)\n",
        "  for i in range(5,10):\n",
        "    print(i)\n",
        "  for i in range(5,10,2):\n",
        "  print(i)\n"
      ],
      "metadata": {
        "colab": {
          "base_uri": "https://localhost:8080/",
          "height": 130
        },
        "id": "Z9cHlhcKKGY_",
        "outputId": "28040da4-a1c2-49a9-bd9a-c22c37f1639f"
      },
      "execution_count": null,
      "outputs": [
        {
          "output_type": "error",
          "ename": "SyntaxError",
          "evalue": "ignored",
          "traceback": [
            "\u001b[0;36m  File \u001b[0;32m\"<ipython-input-26-2fe0fc9c3ec3>\"\u001b[0;36m, line \u001b[0;32m2\u001b[0m\n\u001b[0;31m    if x==5\u001b[0m\n\u001b[0m           ^\u001b[0m\n\u001b[0;31mSyntaxError\u001b[0m\u001b[0;31m:\u001b[0m invalid syntax\n"
          ]
        }
      ]
    },
    {
      "cell_type": "markdown",
      "source": [
        "##Input"
      ],
      "metadata": {
        "id": "nrW7hD9uNoOe"
      }
    },
    {
      "cell_type": "code",
      "source": [
        "input(\"escreva o seu nome \")# O input pede a entrada de um novo dado fornecido pelo usuario.\n"
      ],
      "metadata": {
        "id": "zMkynPwaNge5"
      },
      "execution_count": null,
      "outputs": []
    },
    {
      "cell_type": "code",
      "source": [
        "x=input(\"Esreva seu nome: \")\n",
        "print(\"O nome digitado foi: \",x)"
      ],
      "metadata": {
        "id": "BZ5Xs1KPOULb",
        "outputId": "0ed7a070-85f6-461a-fb24-0e8e15d5d13f",
        "colab": {
          "base_uri": "https://localhost:8080/"
        }
      },
      "execution_count": null,
      "outputs": [
        {
          "output_type": "stream",
          "name": "stdout",
          "text": [
            "Esreva seu nome: thiago\n",
            "O nome digitado foi:  thiago\n"
          ]
        }
      ]
    },
    {
      "cell_type": "markdown",
      "source": [
        "#Lista de exercicios"
      ],
      "metadata": {
        "id": "UD9obFfvPKp-"
      }
    },
    {
      "cell_type": "code",
      "source": [
        "#exercicio 1\n",
        "n=input(\"Digite um numero: \")\n",
        "if type(n) == int:\n",
        "  print(\"O numero digitado Foi: \",n)"
      ],
      "metadata": {
        "id": "iYbS38tTPKER",
        "outputId": "69651a2f-1ff1-46f2-8a70-3a6dc2ddd884",
        "colab": {
          "base_uri": "https://localhost:8080/"
        }
      },
      "execution_count": null,
      "outputs": [
        {
          "name": "stdout",
          "output_type": "stream",
          "text": [
            "Digite um numero: 60\n"
          ]
        }
      ]
    },
    {
      "cell_type": "code",
      "source": [
        "type(40)"
      ],
      "metadata": {
        "id": "PbCYS1-BRJeB",
        "outputId": "17705423-b4d9-4fd7-e6b5-3b78990ba854",
        "colab": {
          "base_uri": "https://localhost:8080/"
        }
      },
      "execution_count": null,
      "outputs": [
        {
          "output_type": "execute_result",
          "data": {
            "text/plain": [
              "int"
            ]
          },
          "metadata": {},
          "execution_count": 15
        }
      ]
    }
  ]
}